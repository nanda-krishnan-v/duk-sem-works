{
  "nbformat": 4,
  "nbformat_minor": 0,
  "metadata": {
    "colab": {
      "provenance": []
    },
    "kernelspec": {
      "name": "python3",
      "display_name": "Python 3"
    },
    "language_info": {
      "name": "python"
    }
  },
  "cells": [
    {
      "cell_type": "markdown",
      "source": [
        "# **Number Theory Functions Implementation in Python**"
      ],
      "metadata": {
        "id": "pZKZHjNLjpN8"
      }
    },
    {
      "cell_type": "markdown",
      "source": [
        "# Task - 1"
      ],
      "metadata": {
        "id": "Z2rCyJFdwWHV"
      }
    },
    {
      "cell_type": "code",
      "execution_count": null,
      "metadata": {
        "colab": {
          "base_uri": "https://localhost:8080/"
        },
        "id": "IhIKYTTkjfq9",
        "outputId": "7449dfe8-e5c4-4fe7-e781-37e94f070d03"
      },
      "outputs": [
        {
          "output_type": "stream",
          "name": "stdout",
          "text": [
            "Enter a number: 101\n",
            "True\n"
          ]
        }
      ],
      "source": [
        "number = int(input(\"Enter a number: \"))\n",
        "''' Inputing the number that have to be checked from the user.\n",
        "Creating a function to check whether the number is prime or not.\n",
        "'''\n",
        "def primeNumber(number):\n",
        "    #Assigning the flag as true because initially we are assuming that the number is prime.\n",
        "    flag = True\n",
        "\n",
        "    #if the number is less than 2 then it is not a prime number so return false.\n",
        "    if number < 2:\n",
        "        return False\n",
        "\n",
        "    '''Using for loop to check the number is prime or not.\n",
        "    If the number is divisible by any number then it is not a prime number so return false.\n",
        "    If the number is not divisible by any number then it is a prime number so return true.'''\n",
        "\n",
        "    for i in range(2,number//2):\n",
        "        if number % i == 0:\n",
        "            return False\n",
        "    if flag:\n",
        "        return True\n",
        "\n",
        "print(primeNumber(number))"
      ]
    },
    {
      "cell_type": "markdown",
      "source": [
        "# Task - 2"
      ],
      "metadata": {
        "id": "c6J_Okx0wwmG"
      }
    },
    {
      "cell_type": "code",
      "source": [
        "n = int(input(\"Enter the number: \"))\n",
        "\n",
        "def noOfprimeFactors(n):\n",
        "    # Initializing count to store the number of prime factors\n",
        "    count = 0\n",
        "    i = 2  # Smallest prime number\n",
        "\n",
        "    ''' Using a while loop to check divisibility.\n",
        "        If 'n' is divisible by 'i', we count it and keep dividing 'n' by 'i'\n",
        "        until it is no longer divisible.\n",
        "    '''\n",
        "    while i * i <= n:\n",
        "        while n % i == 0:\n",
        "            count += 1\n",
        "            n //= i  # Reducing 'n' by dividing it by 'i'\n",
        "        i += 1\n",
        "\n",
        "    # If there's any prime factor left greater than sqrt(n), count it\n",
        "    if n > 1:\n",
        "        count += 1\n",
        "\n",
        "    return count  # Returning the total count of prime factors\n",
        "\n",
        "result = noOfprimeFactors(n)\n",
        "print(f\"The number of prime factors of {n} is {result}.\")\n"
      ],
      "metadata": {
        "colab": {
          "base_uri": "https://localhost:8080/"
        },
        "id": "hFOCbtjiwzTQ",
        "outputId": "0d8b4c37-6475-471b-f8c6-9608b5450588"
      },
      "execution_count": 19,
      "outputs": [
        {
          "output_type": "stream",
          "name": "stdout",
          "text": [
            "Enter the number: 20\n",
            "The number of prime factors of 20 is 3.\n"
          ]
        }
      ]
    },
    {
      "cell_type": "markdown",
      "source": [
        "# Task - 3"
      ],
      "metadata": {
        "id": "xGXOr79Ew0is"
      }
    },
    {
      "cell_type": "code",
      "source": [
        "# Function to calculate GCD (Greatest Common Divisor) using the Euclidean algorithm\n",
        "def gcd(a, b):\n",
        "\n",
        "    c = 0  # Initialize remainder variable\n",
        "\n",
        "    while b != 0:  # Continue until remainder becomes zero\n",
        "        c = a % b  # Compute remainder of a divided by b\n",
        "        a = b\n",
        "        b = c  # Assign remainder to b\n",
        "\n",
        "    return a  # Return the last non-zero value as the GCD\n",
        "\n",
        "\n",
        "a = int(input(\"Enter first number : \"))\n",
        "b = int(input(\"Enter second number : \"))\n",
        "\n",
        "# Calling the function and printing the result\n",
        "print(f\"The GCD of {a} and {b} is {gcd(a, b)}.\")\n"
      ],
      "metadata": {
        "colab": {
          "base_uri": "https://localhost:8080/"
        },
        "id": "zcNvVTytw25N",
        "outputId": "ca12340a-d0ac-4184-952b-4ed88fbad251"
      },
      "execution_count": 17,
      "outputs": [
        {
          "output_type": "stream",
          "name": "stdout",
          "text": [
            "Enter first number : 12\n",
            "Enter second number : 18\n",
            "The GCD of 12 and 18 is 6.\n"
          ]
        }
      ]
    },
    {
      "cell_type": "markdown",
      "source": [
        "# Task - 4"
      ],
      "metadata": {
        "id": "uPBMIx1Iw5Yr"
      }
    },
    {
      "cell_type": "code",
      "source": [
        "# Function to calculate GCD (Greatest Common Divisor)\n",
        "#finding the GCD\n",
        "def gcd(a, b):\n",
        "    while b != 0:\n",
        "        c = a\n",
        "        a = b\n",
        "        b = c % b\n",
        "    return a\n",
        "\n",
        "def lcm(a, b):\n",
        "    \"\"\"\n",
        "    LCM(a, b) = (a * b) // GCD(a, b)\n",
        "    \"\"\"\n",
        "    return (a * b) // gcd(a, b)  # Compute LCM using GCD\n",
        "\n",
        "\n",
        "a = int(input(\"Enter first number : \"))\n",
        "b = int(input(\"Enter second number : \"))\n",
        "\n",
        "# Calling the function and printing the result\n",
        "print(f\"The LCM of {a} and {b} is {lcm(a, b)}.\")\n"
      ],
      "metadata": {
        "colab": {
          "base_uri": "https://localhost:8080/"
        },
        "id": "Js2cdEaOw7UB",
        "outputId": "fc726c07-57a1-47e1-cd87-b0601dde43aa"
      },
      "execution_count": 18,
      "outputs": [
        {
          "output_type": "stream",
          "name": "stdout",
          "text": [
            "Enter first number : 12\n",
            "Enter second number : 18\n",
            "The LCM of 12 and 18 is 36.\n"
          ]
        }
      ]
    }
  ]
}